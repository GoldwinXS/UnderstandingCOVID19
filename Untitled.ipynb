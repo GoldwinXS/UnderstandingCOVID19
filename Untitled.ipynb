{
 "cells": [
  {
   "cell_type": "markdown",
   "metadata": {},
   "source": [
    "## Install Libraries ##"
   ]
  },
  {
   "cell_type": "code",
   "execution_count": null,
   "metadata": {},
   "outputs": [],
   "source": [
    "#!pip install pandas numpy plotly"
   ]
  },
  {
   "cell_type": "code",
   "execution_count": null,
   "metadata": {},
   "outputs": [],
   "source": [
    "import pandas as pd\n",
    "import plotly.express as px\n",
    "import numpy as np"
   ]
  },
  {
   "cell_type": "markdown",
   "metadata": {},
   "source": [
    "## Load the dataset ##"
   ]
  },
  {
   "cell_type": "code",
   "execution_count": 50,
   "metadata": {},
   "outputs": [
    {
     "data": {
      "text/html": [
       "<div>\n",
       "<style scoped>\n",
       "    .dataframe tbody tr th:only-of-type {\n",
       "        vertical-align: middle;\n",
       "    }\n",
       "\n",
       "    .dataframe tbody tr th {\n",
       "        vertical-align: top;\n",
       "    }\n",
       "\n",
       "    .dataframe thead th {\n",
       "        text-align: right;\n",
       "    }\n",
       "</style>\n",
       "<table border=\"1\" class=\"dataframe\">\n",
       "  <thead>\n",
       "    <tr style=\"text-align: right;\">\n",
       "      <th></th>\n",
       "      <th>Province/State</th>\n",
       "      <th>Lat</th>\n",
       "      <th>Long</th>\n",
       "      <th>1/22/20</th>\n",
       "      <th>1/23/20</th>\n",
       "      <th>1/24/20</th>\n",
       "      <th>1/25/20</th>\n",
       "      <th>1/26/20</th>\n",
       "      <th>1/27/20</th>\n",
       "      <th>1/28/20</th>\n",
       "      <th>...</th>\n",
       "      <th>3/9/20</th>\n",
       "      <th>3/10/20</th>\n",
       "      <th>3/11/20</th>\n",
       "      <th>3/12/20</th>\n",
       "      <th>3/13/20</th>\n",
       "      <th>3/14/20</th>\n",
       "      <th>3/15/20</th>\n",
       "      <th>3/16/20</th>\n",
       "      <th>3/17/20</th>\n",
       "      <th>3/18/20</th>\n",
       "    </tr>\n",
       "    <tr>\n",
       "      <th>Country/Region</th>\n",
       "      <th></th>\n",
       "      <th></th>\n",
       "      <th></th>\n",
       "      <th></th>\n",
       "      <th></th>\n",
       "      <th></th>\n",
       "      <th></th>\n",
       "      <th></th>\n",
       "      <th></th>\n",
       "      <th></th>\n",
       "      <th></th>\n",
       "      <th></th>\n",
       "      <th></th>\n",
       "      <th></th>\n",
       "      <th></th>\n",
       "      <th></th>\n",
       "      <th></th>\n",
       "      <th></th>\n",
       "      <th></th>\n",
       "      <th></th>\n",
       "      <th></th>\n",
       "    </tr>\n",
       "  </thead>\n",
       "  <tbody>\n",
       "    <tr>\n",
       "      <th>Thailand</th>\n",
       "      <td>NaN</td>\n",
       "      <td>15.0000</td>\n",
       "      <td>101.0000</td>\n",
       "      <td>2</td>\n",
       "      <td>3</td>\n",
       "      <td>5</td>\n",
       "      <td>7</td>\n",
       "      <td>8</td>\n",
       "      <td>8</td>\n",
       "      <td>14</td>\n",
       "      <td>...</td>\n",
       "      <td>50</td>\n",
       "      <td>53</td>\n",
       "      <td>59</td>\n",
       "      <td>70</td>\n",
       "      <td>75</td>\n",
       "      <td>82</td>\n",
       "      <td>114</td>\n",
       "      <td>147</td>\n",
       "      <td>177</td>\n",
       "      <td>212</td>\n",
       "    </tr>\n",
       "    <tr>\n",
       "      <th>Japan</th>\n",
       "      <td>NaN</td>\n",
       "      <td>36.0000</td>\n",
       "      <td>138.0000</td>\n",
       "      <td>2</td>\n",
       "      <td>1</td>\n",
       "      <td>2</td>\n",
       "      <td>2</td>\n",
       "      <td>4</td>\n",
       "      <td>4</td>\n",
       "      <td>7</td>\n",
       "      <td>...</td>\n",
       "      <td>511</td>\n",
       "      <td>581</td>\n",
       "      <td>639</td>\n",
       "      <td>639</td>\n",
       "      <td>701</td>\n",
       "      <td>773</td>\n",
       "      <td>839</td>\n",
       "      <td>825</td>\n",
       "      <td>878</td>\n",
       "      <td>889</td>\n",
       "    </tr>\n",
       "    <tr>\n",
       "      <th>Singapore</th>\n",
       "      <td>NaN</td>\n",
       "      <td>1.2833</td>\n",
       "      <td>103.8333</td>\n",
       "      <td>0</td>\n",
       "      <td>1</td>\n",
       "      <td>3</td>\n",
       "      <td>3</td>\n",
       "      <td>4</td>\n",
       "      <td>5</td>\n",
       "      <td>7</td>\n",
       "      <td>...</td>\n",
       "      <td>150</td>\n",
       "      <td>160</td>\n",
       "      <td>178</td>\n",
       "      <td>178</td>\n",
       "      <td>200</td>\n",
       "      <td>212</td>\n",
       "      <td>226</td>\n",
       "      <td>243</td>\n",
       "      <td>266</td>\n",
       "      <td>313</td>\n",
       "    </tr>\n",
       "    <tr>\n",
       "      <th>Nepal</th>\n",
       "      <td>NaN</td>\n",
       "      <td>28.1667</td>\n",
       "      <td>84.2500</td>\n",
       "      <td>0</td>\n",
       "      <td>0</td>\n",
       "      <td>0</td>\n",
       "      <td>1</td>\n",
       "      <td>1</td>\n",
       "      <td>1</td>\n",
       "      <td>1</td>\n",
       "      <td>...</td>\n",
       "      <td>1</td>\n",
       "      <td>1</td>\n",
       "      <td>1</td>\n",
       "      <td>1</td>\n",
       "      <td>1</td>\n",
       "      <td>1</td>\n",
       "      <td>1</td>\n",
       "      <td>1</td>\n",
       "      <td>1</td>\n",
       "      <td>1</td>\n",
       "    </tr>\n",
       "    <tr>\n",
       "      <th>Malaysia</th>\n",
       "      <td>NaN</td>\n",
       "      <td>2.5000</td>\n",
       "      <td>112.5000</td>\n",
       "      <td>0</td>\n",
       "      <td>0</td>\n",
       "      <td>0</td>\n",
       "      <td>3</td>\n",
       "      <td>4</td>\n",
       "      <td>4</td>\n",
       "      <td>4</td>\n",
       "      <td>...</td>\n",
       "      <td>117</td>\n",
       "      <td>129</td>\n",
       "      <td>149</td>\n",
       "      <td>149</td>\n",
       "      <td>197</td>\n",
       "      <td>238</td>\n",
       "      <td>428</td>\n",
       "      <td>566</td>\n",
       "      <td>673</td>\n",
       "      <td>790</td>\n",
       "    </tr>\n",
       "  </tbody>\n",
       "</table>\n",
       "<p>5 rows × 60 columns</p>\n",
       "</div>"
      ],
      "text/plain": [
       "               Province/State      Lat      Long  1/22/20  1/23/20  1/24/20  \\\n",
       "Country/Region                                                                \n",
       "Thailand                  NaN  15.0000  101.0000        2        3        5   \n",
       "Japan                     NaN  36.0000  138.0000        2        1        2   \n",
       "Singapore                 NaN   1.2833  103.8333        0        1        3   \n",
       "Nepal                     NaN  28.1667   84.2500        0        0        0   \n",
       "Malaysia                  NaN   2.5000  112.5000        0        0        0   \n",
       "\n",
       "                1/25/20  1/26/20  1/27/20  1/28/20  ...  3/9/20  3/10/20  \\\n",
       "Country/Region                                      ...                    \n",
       "Thailand              7        8        8       14  ...      50       53   \n",
       "Japan                 2        4        4        7  ...     511      581   \n",
       "Singapore             3        4        5        7  ...     150      160   \n",
       "Nepal                 1        1        1        1  ...       1        1   \n",
       "Malaysia              3        4        4        4  ...     117      129   \n",
       "\n",
       "                3/11/20  3/12/20  3/13/20  3/14/20  3/15/20  3/16/20  3/17/20  \\\n",
       "Country/Region                                                                  \n",
       "Thailand             59       70       75       82      114      147      177   \n",
       "Japan               639      639      701      773      839      825      878   \n",
       "Singapore           178      178      200      212      226      243      266   \n",
       "Nepal                 1        1        1        1        1        1        1   \n",
       "Malaysia            149      149      197      238      428      566      673   \n",
       "\n",
       "                3/18/20  \n",
       "Country/Region           \n",
       "Thailand            212  \n",
       "Japan               889  \n",
       "Singapore           313  \n",
       "Nepal                 1  \n",
       "Malaysia            790  \n",
       "\n",
       "[5 rows x 60 columns]"
      ]
     },
     "execution_count": 50,
     "metadata": {},
     "output_type": "execute_result"
    }
   ],
   "source": [
    "ncov = pd.read_csv('time_series_2019-ncov-Confirmed.csv')\n",
    "ncov.set_index(keys='Country/Region',inplace=True)\n",
    "ncov.head()"
   ]
  },
  {
   "cell_type": "markdown",
   "metadata": {},
   "source": []
  },
  {
   "cell_type": "code",
   "execution_count": 54,
   "metadata": {},
   "outputs": [
    {
     "data": {
      "text/html": [
       "<div>\n",
       "<style scoped>\n",
       "    .dataframe tbody tr th:only-of-type {\n",
       "        vertical-align: middle;\n",
       "    }\n",
       "\n",
       "    .dataframe tbody tr th {\n",
       "        vertical-align: top;\n",
       "    }\n",
       "\n",
       "    .dataframe thead th {\n",
       "        text-align: right;\n",
       "    }\n",
       "</style>\n",
       "<table border=\"1\" class=\"dataframe\">\n",
       "  <thead>\n",
       "    <tr style=\"text-align: right;\">\n",
       "      <th></th>\n",
       "      <th>Province/State</th>\n",
       "      <th>Lat</th>\n",
       "      <th>Long</th>\n",
       "      <th>1/22/20</th>\n",
       "      <th>1/23/20</th>\n",
       "      <th>1/24/20</th>\n",
       "      <th>1/25/20</th>\n",
       "      <th>1/26/20</th>\n",
       "      <th>1/27/20</th>\n",
       "      <th>1/28/20</th>\n",
       "      <th>...</th>\n",
       "      <th>3/10/20</th>\n",
       "      <th>3/11/20</th>\n",
       "      <th>3/12/20</th>\n",
       "      <th>3/13/20</th>\n",
       "      <th>3/14/20</th>\n",
       "      <th>3/15/20</th>\n",
       "      <th>3/16/20</th>\n",
       "      <th>3/17/20</th>\n",
       "      <th>3/18/20</th>\n",
       "      <th>TotalCases</th>\n",
       "    </tr>\n",
       "    <tr>\n",
       "      <th>Country/Region</th>\n",
       "      <th></th>\n",
       "      <th></th>\n",
       "      <th></th>\n",
       "      <th></th>\n",
       "      <th></th>\n",
       "      <th></th>\n",
       "      <th></th>\n",
       "      <th></th>\n",
       "      <th></th>\n",
       "      <th></th>\n",
       "      <th></th>\n",
       "      <th></th>\n",
       "      <th></th>\n",
       "      <th></th>\n",
       "      <th></th>\n",
       "      <th></th>\n",
       "      <th></th>\n",
       "      <th></th>\n",
       "      <th></th>\n",
       "      <th></th>\n",
       "      <th></th>\n",
       "    </tr>\n",
       "  </thead>\n",
       "  <tbody>\n",
       "    <tr>\n",
       "      <th>Thailand</th>\n",
       "      <td>NaN</td>\n",
       "      <td>15.0000</td>\n",
       "      <td>101.0000</td>\n",
       "      <td>2</td>\n",
       "      <td>3</td>\n",
       "      <td>5</td>\n",
       "      <td>7</td>\n",
       "      <td>8</td>\n",
       "      <td>8</td>\n",
       "      <td>14</td>\n",
       "      <td>...</td>\n",
       "      <td>53</td>\n",
       "      <td>59</td>\n",
       "      <td>70</td>\n",
       "      <td>75</td>\n",
       "      <td>82</td>\n",
       "      <td>114</td>\n",
       "      <td>147</td>\n",
       "      <td>177</td>\n",
       "      <td>212</td>\n",
       "      <td>4858</td>\n",
       "    </tr>\n",
       "    <tr>\n",
       "      <th>Japan</th>\n",
       "      <td>NaN</td>\n",
       "      <td>36.0000</td>\n",
       "      <td>138.0000</td>\n",
       "      <td>2</td>\n",
       "      <td>1</td>\n",
       "      <td>2</td>\n",
       "      <td>2</td>\n",
       "      <td>4</td>\n",
       "      <td>4</td>\n",
       "      <td>7</td>\n",
       "      <td>...</td>\n",
       "      <td>581</td>\n",
       "      <td>639</td>\n",
       "      <td>639</td>\n",
       "      <td>701</td>\n",
       "      <td>773</td>\n",
       "      <td>839</td>\n",
       "      <td>825</td>\n",
       "      <td>878</td>\n",
       "      <td>889</td>\n",
       "      <td>25164</td>\n",
       "    </tr>\n",
       "    <tr>\n",
       "      <th>Singapore</th>\n",
       "      <td>NaN</td>\n",
       "      <td>1.2833</td>\n",
       "      <td>103.8333</td>\n",
       "      <td>0</td>\n",
       "      <td>1</td>\n",
       "      <td>3</td>\n",
       "      <td>3</td>\n",
       "      <td>4</td>\n",
       "      <td>5</td>\n",
       "      <td>7</td>\n",
       "      <td>...</td>\n",
       "      <td>160</td>\n",
       "      <td>178</td>\n",
       "      <td>178</td>\n",
       "      <td>200</td>\n",
       "      <td>212</td>\n",
       "      <td>226</td>\n",
       "      <td>243</td>\n",
       "      <td>266</td>\n",
       "      <td>313</td>\n",
       "      <td>9886</td>\n",
       "    </tr>\n",
       "    <tr>\n",
       "      <th>Nepal</th>\n",
       "      <td>NaN</td>\n",
       "      <td>28.1667</td>\n",
       "      <td>84.2500</td>\n",
       "      <td>0</td>\n",
       "      <td>0</td>\n",
       "      <td>0</td>\n",
       "      <td>1</td>\n",
       "      <td>1</td>\n",
       "      <td>1</td>\n",
       "      <td>1</td>\n",
       "      <td>...</td>\n",
       "      <td>1</td>\n",
       "      <td>1</td>\n",
       "      <td>1</td>\n",
       "      <td>1</td>\n",
       "      <td>1</td>\n",
       "      <td>1</td>\n",
       "      <td>1</td>\n",
       "      <td>1</td>\n",
       "      <td>1</td>\n",
       "      <td>108</td>\n",
       "    </tr>\n",
       "    <tr>\n",
       "      <th>Malaysia</th>\n",
       "      <td>NaN</td>\n",
       "      <td>2.5000</td>\n",
       "      <td>112.5000</td>\n",
       "      <td>0</td>\n",
       "      <td>0</td>\n",
       "      <td>0</td>\n",
       "      <td>3</td>\n",
       "      <td>4</td>\n",
       "      <td>4</td>\n",
       "      <td>4</td>\n",
       "      <td>...</td>\n",
       "      <td>129</td>\n",
       "      <td>149</td>\n",
       "      <td>149</td>\n",
       "      <td>197</td>\n",
       "      <td>238</td>\n",
       "      <td>428</td>\n",
       "      <td>566</td>\n",
       "      <td>673</td>\n",
       "      <td>790</td>\n",
       "      <td>8944</td>\n",
       "    </tr>\n",
       "  </tbody>\n",
       "</table>\n",
       "<p>5 rows × 61 columns</p>\n",
       "</div>"
      ],
      "text/plain": [
       "               Province/State      Lat      Long  1/22/20  1/23/20  1/24/20  \\\n",
       "Country/Region                                                                \n",
       "Thailand                  NaN  15.0000  101.0000        2        3        5   \n",
       "Japan                     NaN  36.0000  138.0000        2        1        2   \n",
       "Singapore                 NaN   1.2833  103.8333        0        1        3   \n",
       "Nepal                     NaN  28.1667   84.2500        0        0        0   \n",
       "Malaysia                  NaN   2.5000  112.5000        0        0        0   \n",
       "\n",
       "                1/25/20  1/26/20  1/27/20  1/28/20  ...  3/10/20  3/11/20  \\\n",
       "Country/Region                                      ...                     \n",
       "Thailand              7        8        8       14  ...       53       59   \n",
       "Japan                 2        4        4        7  ...      581      639   \n",
       "Singapore             3        4        5        7  ...      160      178   \n",
       "Nepal                 1        1        1        1  ...        1        1   \n",
       "Malaysia              3        4        4        4  ...      129      149   \n",
       "\n",
       "                3/12/20  3/13/20  3/14/20  3/15/20  3/16/20  3/17/20  3/18/20  \\\n",
       "Country/Region                                                                  \n",
       "Thailand             70       75       82      114      147      177      212   \n",
       "Japan               639      701      773      839      825      878      889   \n",
       "Singapore           178      200      212      226      243      266      313   \n",
       "Nepal                 1        1        1        1        1        1        1   \n",
       "Malaysia            149      197      238      428      566      673      790   \n",
       "\n",
       "                TotalCases  \n",
       "Country/Region              \n",
       "Thailand              4858  \n",
       "Japan                25164  \n",
       "Singapore             9886  \n",
       "Nepal                  108  \n",
       "Malaysia              8944  \n",
       "\n",
       "[5 rows x 61 columns]"
      ]
     },
     "execution_count": 54,
     "metadata": {},
     "output_type": "execute_result"
    }
   ],
   "source": [
    "ncov['TotalCases']=ncov.iloc[:,4:].sum(axis=1)\n",
    "ncov.head()"
   ]
  },
  {
   "cell_type": "code",
   "execution_count": null,
   "metadata": {},
   "outputs": [],
   "source": [
    "ncov.pivot_table(index='index',values=)"
   ]
  },
  {
   "cell_type": "code",
   "execution_count": 43,
   "metadata": {},
   "outputs": [
    {
     "data": {
      "application/vnd.plotly.v1+json": {
       "config": {
        "plotlyServerURL": "https://plot.ly"
       },
       "data": [
        {
         "coloraxis": "coloraxis",
         "geo": "geo",
         "hoverlabel": {
          "namelength": 0
         },
         "hovertemplate": "<b>%{hovertext}</b><br><br>Lat=%{location}<br>3/18/20=%{z}",
         "hovertext": [
          "Thailand",
          "Japan",
          "Singapore",
          "Nepal",
          "Malaysia",
          "Canada",
          "Australia",
          "Australia",
          "Australia",
          "Cambodia",
          "Sri Lanka",
          "Germany",
          "Finland",
          "United Arab Emirates",
          "Philippines",
          "India",
          "Italy",
          "Sweden",
          "Spain",
          "Australia",
          "Belgium",
          "Egypt",
          "Australia",
          "Lebanon",
          "Iraq",
          "Oman",
          "Afghanistan",
          "Bahrain",
          "Kuwait",
          "Algeria",
          "Croatia",
          "Switzerland",
          "Austria",
          "Israel",
          "Pakistan",
          "Brazil",
          "Georgia",
          "Greece",
          "North Macedonia",
          "Norway",
          "Romania",
          "Estonia",
          "San Marino",
          "Belarus",
          "Iceland",
          "Lithuania",
          "Mexico",
          "New Zealand",
          "Nigeria",
          "Australia",
          "Ireland",
          "Luxembourg",
          "Monaco",
          "Qatar",
          "Ecuador",
          "Azerbaijan",
          "Armenia",
          "Dominican Republic",
          "Indonesia",
          "Portugal",
          "Andorra",
          "Australia",
          "Latvia",
          "Morocco",
          "Saudi Arabia",
          "Senegal",
          "Argentina",
          "Chile",
          "Jordan",
          "Ukraine",
          "Hungary",
          "Australia",
          "Liechtenstein",
          "Poland",
          "Tunisia",
          "Bosnia and Herzegovina",
          "Slovenia",
          "South Africa",
          "Bhutan",
          "Cameroon",
          "Colombia",
          "Costa Rica",
          "Peru",
          "Serbia",
          "Slovakia",
          "Togo",
          "Malta",
          "Martinique",
          "Bulgaria",
          "Maldives",
          "Bangladesh",
          "Paraguay",
          "Canada",
          "Canada",
          "Canada",
          "Albania",
          "Cyprus",
          "Brunei",
          "US",
          "US",
          "US",
          "US",
          "US",
          "US",
          "US",
          "US",
          "US",
          "US",
          "US",
          "US",
          "US",
          "US",
          "US",
          "US",
          "US",
          "US",
          "US",
          "US",
          "US",
          "US",
          "US",
          "US",
          "US",
          "US",
          "US",
          "US",
          "US",
          "US",
          "US",
          "US",
          "US",
          "US",
          "US",
          "Burkina Faso",
          "Holy See",
          "Mongolia",
          "Panama",
          "US",
          "US",
          "US",
          "US",
          "US",
          "US",
          "US",
          "US",
          "US",
          "US",
          "US",
          "US",
          "US",
          "US",
          "US",
          "US",
          "US",
          "China",
          "Iran",
          "Korea, South",
          "France",
          "China",
          "China",
          "China",
          "China",
          "China",
          "China",
          "China",
          "Cruise Ship",
          "China",
          "China",
          "China",
          "China",
          "Denmark",
          "China",
          "China",
          "China",
          "China",
          "China",
          "China",
          "China",
          "China",
          "China",
          "China",
          "China",
          "China",
          "China",
          "China",
          "China",
          "Czechia",
          "China",
          "China",
          "China",
          "Taiwan*",
          "Vietnam",
          "Russia",
          "China",
          "China",
          "Moldova",
          "Bolivia",
          "Denmark",
          "France",
          "Honduras",
          "United Kingdom",
          "Canada",
          "China",
          "Congo (Kinshasa)",
          "Cote d'Ivoire",
          "France",
          "Jamaica",
          "Turkey",
          "United Kingdom",
          "US",
          "US",
          "US",
          "US",
          "US",
          "US",
          "US",
          "US",
          "US",
          "US",
          "US",
          "US",
          "US",
          "US",
          "US",
          "US",
          "US",
          "US",
          "US",
          "US",
          "US",
          "US",
          "US",
          "US",
          "US",
          "US",
          "US",
          "US",
          "US",
          "US",
          "US",
          "US",
          "US",
          "US",
          "US",
          "US",
          "US",
          "US",
          "US",
          "US",
          "US",
          "US",
          "US",
          "US",
          "US",
          "US",
          "US",
          "US",
          "US",
          "US",
          "US",
          "US",
          "US",
          "US",
          "US",
          "US",
          "US",
          "US",
          "US",
          "US",
          "US",
          "US",
          "US",
          "US",
          "US",
          "US",
          "US",
          "US",
          "US",
          "US",
          "US",
          "US",
          "US",
          "US",
          "US",
          "US",
          "US",
          "US",
          "US",
          "US",
          "US",
          "US",
          "US",
          "US",
          "US",
          "US",
          "US",
          "US",
          "US",
          "US",
          "US",
          "US",
          "US",
          "US",
          "US",
          "US",
          "US",
          "US",
          "US",
          "US",
          "US",
          "US",
          "US",
          "US",
          "US",
          "US",
          "US",
          "US",
          "US",
          "US",
          "US",
          "US",
          "US",
          "US",
          "US",
          "US",
          "US",
          "US",
          "US",
          "US",
          "US",
          "US",
          "US",
          "US",
          "US",
          "US",
          "US",
          "US",
          "US",
          "US",
          "US",
          "US",
          "US",
          "US",
          "US",
          "US",
          "US",
          "US",
          "US",
          "US",
          "US",
          "US",
          "US",
          "US",
          "US",
          "US",
          "US",
          "US",
          "US",
          "US",
          "US",
          "US",
          "US",
          "US",
          "US",
          "US",
          "US",
          "US",
          "US",
          "US",
          "US",
          "US",
          "US",
          "US",
          "US",
          "US",
          "US",
          "US",
          "US",
          "US",
          "US",
          "US",
          "US",
          "US",
          "US",
          "US",
          "US",
          "US",
          "US",
          "US",
          "US",
          "US",
          "US",
          "US",
          "US",
          "US",
          "US",
          "US",
          "US",
          "US",
          "US",
          "Cuba",
          "Guyana",
          "Australia",
          "United Kingdom",
          "Kazakhstan",
          "France",
          "Canada",
          "Canada",
          "Ethiopia",
          "Sudan",
          "Guinea",
          "Canada",
          "Kenya",
          "Antigua and Barbuda",
          "US",
          "Uruguay",
          "Ghana",
          "US",
          "Namibia",
          "Seychelles",
          "Trinidad and Tobago",
          "Venezuela",
          "Eswatini",
          "Gabon",
          "Guatemala",
          "Mauritania",
          "Rwanda",
          "Saint Lucia",
          "Saint Vincent and the Grenadines",
          "Suriname",
          "France",
          "US",
          "Kosovo",
          "Canada",
          "Canada",
          "Central African Republic",
          "Congo (Brazzaville)",
          "Equatorial Guinea",
          "France",
          "Uzbekistan",
          "Netherlands",
          "Canada",
          "France",
          "Benin",
          "Greenland",
          "Liberia",
          "Netherlands",
          "Somalia",
          "Tanzania",
          "The Bahamas",
          "US",
          "United Kingdom",
          "France",
          "Barbados",
          "Montenegro",
          "Kyrgyzstan",
          "Mauritius",
          "Netherlands",
          "Zambia",
          "Djibouti",
          "Gambia, The",
          "United Kingdom"
         ],
         "locations": [
          15,
          36,
          1.2833,
          28.1667,
          2.5,
          49.2827,
          -33.8688,
          -37.8136,
          -28.0167,
          11.55,
          7,
          51,
          64,
          24,
          13,
          21,
          43,
          63,
          40,
          -34.9285,
          50.8333,
          26,
          35.4437,
          33.8547,
          33,
          21,
          33,
          26.0275,
          29.5,
          28.0339,
          45.1,
          46.8182,
          47.5162,
          31,
          30.3753,
          -14.235,
          42.3154,
          39.0742,
          41.6086,
          60.472,
          45.9432,
          58.5953,
          43.9424,
          53.7098,
          64.9631,
          55.1694,
          23.6345,
          -40.9006,
          9.082,
          -31.9505,
          53.1424,
          49.8153,
          43.7333,
          25.3548,
          -1.8312,
          40.1431,
          40.0691,
          18.7357,
          -0.7893,
          39.3999,
          42.5063,
          -41.4545,
          56.8796,
          31.7917,
          24,
          14.4974,
          -38.4161,
          -35.6751,
          31.24,
          48.3794,
          47.1625,
          -12.4634,
          47.14,
          51.9194,
          34,
          43.9159,
          46.1512,
          -30.5595,
          27.5142,
          3.8480000000000003,
          4.5709,
          9.7489,
          -9.19,
          44.0165,
          48.669,
          8.6195,
          35.9375,
          14.6415,
          42.7339,
          3.2028,
          23.685,
          -23.4425,
          51.2538,
          53.9333,
          52.9399,
          41.1533,
          35.1264,
          4.5353,
          47.4009,
          42.1657,
          36.1162,
          42.2302,
          35.4437,
          37.6489,
          33.0406,
          39.0598,
          27.7663,
          40.2989,
          44.571999999999996,
          31.0545,
          40.3495,
          40.5908,
          42.0115,
          39.0639,
          35.6301,
          33.8569,
          35.7478,
          37.7693,
          33.7298,
          39.8494,
          37.6681,
          38.8974,
          38.3135,
          43.4525,
          45.6945,
          41.1254,
          40.3888,
          41.6809,
          44.2685,
          41.5978,
          21.0943,
          35.5653,
          40.15,
          12.2383,
          41.9029,
          46.8625,
          8.538,
          38.5266,
          31.1695,
          38.4561,
          44.0459,
          61.3707,
          34.9697,
          39.3185,
          44.2405,
          44.6939,
          43.3266,
          32.7416,
          46.9219,
          34.8405,
          47.5289,
          44.2998,
          38.4912,
          42.756,
          30.9756,
          32,
          36,
          46.2276,
          23.3417,
          33.882,
          29.1832,
          27.6104,
          31.8257,
          27.614,
          36.3427,
          35.4437,
          32.9711,
          30.0572,
          30.6171,
          47.861999999999995,
          56.2639,
          40.1824,
          31.201999999999998,
          39.549,
          26.0789,
          23.8298,
          35.1917,
          24.974,
          19.1959,
          26.8154,
          39.3054,
          37.5777,
          37.8099,
          22.3,
          41.2956,
          43.6661,
          49.8175,
          41.1129,
          44.0935,
          37.2692,
          23.7,
          16,
          60,
          35.7452,
          22.1667,
          47.4116,
          -16.2902,
          61.8926,
          18.0708,
          15.2,
          49.3723,
          46.5653,
          31.6927,
          -4.0383,
          7.54,
          17.9,
          18.1096,
          38.9637,
          36.1408,
          47.6477,
          38.3105,
          37.0454,
          38.5025,
          34.3705,
          42.4097,
          33.9191,
          33.7956,
          37.5455,
          33.4502,
          32.4893,
          40.2589,
          40.0712,
          39.9259,
          40.8568,
          40.6976,
          39.6553,
          40.6956,
          39.6203,
          38.5458,
          41.9879,
          41.0458,
          39.9526,
          36.8508,
          38.8816,
          38.2042,
          39.0768,
          38.7849,
          41.3912,
          34.2465,
          32.0575,
          41.4277,
          39.8522,
          40.0106,
          43.0186,
          44.7509,
          41.4339,
          41.2603,
          43.0279,
          44.8254,
          26.8946,
          34.2515,
          33.1795,
          38.1938,
          29.6499,
          40.7909,
          34.8606,
          38.4333,
          41.6699,
          42.3118,
          36.1343,
          43.1261,
          36.9859,
          39.5839,
          39.8065,
          40.7453,
          38.8454,
          47.175,
          27.4799,
          44.8446,
          30.5773,
          34.0132,
          33.9533,
          35.1269,
          38.6103,
          40.9849,
          41.8586,
          29.028000000000002,
          38.9085,
          42.9931,
          38.9072,
          40.229,
          37.6017,
          26.1901,
          26.663,
          32.8162,
          41.1489,
          43.0324,
          32.7957,
          45.7466,
          33.8999,
          40.9629,
          38.9108,
          21.307,
          42.3345,
          47.7425,
          34.3672,
          42.6953,
          37.2519,
          47.0676,
          36.1593,
          39.2587,
          41.8882,
          35.7211,
          39.9078,
          41.3148,
          38.0606,
          39.8362,
          42.4672,
          40.6546,
          44.9964,
          40.5608,
          41.6739,
          38.7646,
          37.3541,
          36.0796,
          29.5693,
          47.1981,
          30.769000000000002,
          35.9179,
          40.7128,
          39.1547,
          42.3601,
          39.7392,
          39.5912,
          40.9263,
          29.7752,
          37.7749,
          37.8534,
          33.7879,
          42.1767,
          33.2918,
          35.8032,
          41.122,
          43.9088,
          27.9904,
          39.0916,
          37.563,
          38.578,
          45.775,
          33.8034,
          45.547,
          48.033,
          40.745,
          38.4747,
          32.7157,
          36.5761,
          34.0522,
          47.6062,
          41.7377,
          48.4242,
          46.8646,
          48.1976,
          48.8787,
          38.0834,
          38.196,
          37.5091,
          36.6066,
          42.632,
          30.7917,
          26.07,
          27.8764,
          29.7938,
          30.5927,
          28.3232,
          32.7767,
          32.7732,
          30.3883,
          40.5726,
          39.58,
          45.5146,
          44.9267,
          43.8325,
          42.3334,
          42.3689,
          40.4108,
          37.7772,
          34.7253,
          36.4933,
          39.4638,
          40.4483,
          41.6228,
          42.6712,
          40.8685,
          45.3293,
          43.9952,
          40.8298,
          41.256,
          41.7866,
          29.9511,
          43.8901,
          44.4797,
          43.0985,
          43.7242,
          43.6632,
          42.9815,
          33.8837,
          35.0178,
          42.5922,
          42.2791,
          39.5393,
          22,
          5,
          -35.4735,
          55.3781,
          48.0196,
          -17.6797,
          53.7609,
          52.9399,
          9.145,
          12.8628,
          9.9456,
          37.6489,
          -0.0236,
          17.0608,
          32.3182,
          -32.5228,
          7.9465,
          18.2208,
          -22.9576,
          -4.6796,
          10.6918,
          6.4238,
          -26.5225,
          -0.8037,
          15.7835,
          21.0079,
          -1.9403,
          13.9094,
          12.9843,
          3.9193,
          3.9339,
          13.4443,
          42.6026,
          53.1355,
          46.5107,
          6.6111,
          -4.0383,
          1.5,
          -12.8275,
          41.3775,
          52.1326,
          44.681999999999995,
          16.25,
          9.3077,
          71.7069,
          6.4281,
          12.1696,
          5.1521,
          -6.369,
          24.25,
          18.3358,
          19.3133,
          -21.1351,
          13.1939,
          42.5,
          41.2044,
          -20.2,
          12.5186,
          -15.4167,
          11.8251,
          13.4432,
          16.7425
         ],
         "name": "",
         "type": "choropleth",
         "z": [
          212,
          889,
          313,
          1,
          790,
          186,
          267,
          121,
          94,
          35,
          51,
          12327,
          336,
          113,
          202,
          156,
          35713,
          1279,
          13910,
          37,
          1486,
          196,
          0,
          133,
          164,
          39,
          22,
          256,
          142,
          74,
          81,
          3028,
          1646,
          433,
          299,
          372,
          38,
          418,
          35,
          1550,
          260,
          258,
          119,
          51,
          250,
          27,
          93,
          20,
          8,
          35,
          292,
          203,
          7,
          452,
          111,
          28,
          84,
          21,
          227,
          448,
          39,
          10,
          71,
          49,
          171,
          31,
          79,
          238,
          52,
          14,
          58,
          1,
          28,
          251,
          29,
          38,
          275,
          116,
          1,
          10,
          93,
          50,
          145,
          83,
          105,
          1,
          38,
          19,
          92,
          13,
          14,
          11,
          221,
          97,
          94,
          59,
          49,
          68,
          1014,
          2495,
          751,
          218,
          47,
          21,
          199,
          184,
          314,
          267,
          68,
          173,
          162,
          152,
          29,
          85,
          70,
          47,
          79,
          77,
          27,
          39,
          27,
          31,
          55,
          26,
          77,
          24,
          86,
          33,
          92,
          68,
          14,
          19,
          51,
          20,
          1,
          6,
          86,
          18,
          257,
          18,
          18,
          6,
          33,
          19,
          9,
          42,
          83,
          34,
          11,
          23,
          6,
          11,
          1,
          15,
          67800,
          17361,
          8413,
          9043,
          1370,
          1273,
          1232,
          1018,
          990,
          935,
          761,
          712,
          631,
          576,
          540,
          482,
          1057,
          469,
          361,
          318,
          296,
          253,
          246,
          176,
          168,
          146,
          136,
          133,
          133,
          181,
          125,
          93,
          464,
          76,
          75,
          75,
          100,
          75,
          147,
          18,
          15,
          30,
          12,
          58,
          3,
          9,
          6,
          11,
          1,
          4,
          6,
          3,
          13,
          98,
          8,
          0,
          0,
          0,
          0,
          0,
          0,
          0,
          0,
          0,
          0,
          0,
          0,
          0,
          0,
          0,
          0,
          0,
          0,
          0,
          0,
          0,
          0,
          0,
          0,
          0,
          0,
          0,
          0,
          0,
          0,
          0,
          0,
          0,
          0,
          0,
          0,
          0,
          0,
          0,
          0,
          0,
          0,
          0,
          0,
          0,
          0,
          0,
          0,
          0,
          0,
          0,
          0,
          0,
          0,
          0,
          0,
          0,
          0,
          0,
          0,
          0,
          0,
          0,
          0,
          0,
          0,
          0,
          0,
          0,
          0,
          0,
          0,
          0,
          0,
          0,
          0,
          0,
          0,
          0,
          0,
          0,
          0,
          0,
          0,
          0,
          0,
          0,
          0,
          0,
          0,
          0,
          0,
          0,
          0,
          0,
          0,
          0,
          0,
          0,
          0,
          0,
          0,
          0,
          0,
          0,
          0,
          0,
          0,
          0,
          0,
          0,
          0,
          0,
          0,
          0,
          0,
          0,
          0,
          0,
          0,
          0,
          0,
          0,
          0,
          0,
          0,
          0,
          0,
          0,
          0,
          0,
          0,
          0,
          0,
          0,
          0,
          0,
          0,
          0,
          0,
          0,
          0,
          0,
          0,
          0,
          0,
          0,
          0,
          0,
          0,
          0,
          0,
          0,
          0,
          0,
          0,
          0,
          0,
          0,
          0,
          0,
          0,
          0,
          0,
          0,
          0,
          0,
          0,
          0,
          0,
          0,
          0,
          0,
          0,
          0,
          0,
          0,
          0,
          0,
          0,
          0,
          0,
          0,
          0,
          0,
          0,
          0,
          0,
          0,
          0,
          0,
          7,
          7,
          3,
          2626,
          35,
          3,
          15,
          8,
          6,
          2,
          1,
          9,
          3,
          1,
          46,
          50,
          7,
          5,
          2,
          4,
          7,
          36,
          1,
          1,
          6,
          1,
          8,
          2,
          1,
          1,
          11,
          5,
          2,
          3,
          1,
          1,
          1,
          4,
          3,
          15,
          2051,
          12,
          27,
          2,
          1,
          2,
          3,
          1,
          3,
          1,
          2,
          1,
          12,
          2,
          1,
          3,
          3,
          4,
          2,
          1,
          1,
          1
         ]
        }
       ],
       "layout": {
        "coloraxis": {
         "colorbar": {
          "title": {
           "text": "3/18/20"
          }
         },
         "colorscale": [
          [
           0,
           "rgb(5,48,97)"
          ],
          [
           0.1,
           "rgb(33,102,172)"
          ],
          [
           0.2,
           "rgb(67,147,195)"
          ],
          [
           0.3,
           "rgb(146,197,222)"
          ],
          [
           0.4,
           "rgb(209,229,240)"
          ],
          [
           0.5,
           "rgb(247,247,247)"
          ],
          [
           0.6,
           "rgb(253,219,199)"
          ],
          [
           0.7,
           "rgb(244,165,130)"
          ],
          [
           0.8,
           "rgb(214,96,77)"
          ],
          [
           0.9,
           "rgb(178,24,43)"
          ],
          [
           1,
           "rgb(103,0,31)"
          ]
         ]
        },
        "geo": {
         "center": {},
         "domain": {
          "x": [
           0,
           1
          ],
          "y": [
           0,
           1
          ]
         }
        },
        "legend": {
         "tracegroupgap": 0
        },
        "template": {
         "data": {
          "bar": [
           {
            "error_x": {
             "color": "#2a3f5f"
            },
            "error_y": {
             "color": "#2a3f5f"
            },
            "marker": {
             "line": {
              "color": "#E5ECF6",
              "width": 0.5
             }
            },
            "type": "bar"
           }
          ],
          "barpolar": [
           {
            "marker": {
             "line": {
              "color": "#E5ECF6",
              "width": 0.5
             }
            },
            "type": "barpolar"
           }
          ],
          "carpet": [
           {
            "aaxis": {
             "endlinecolor": "#2a3f5f",
             "gridcolor": "white",
             "linecolor": "white",
             "minorgridcolor": "white",
             "startlinecolor": "#2a3f5f"
            },
            "baxis": {
             "endlinecolor": "#2a3f5f",
             "gridcolor": "white",
             "linecolor": "white",
             "minorgridcolor": "white",
             "startlinecolor": "#2a3f5f"
            },
            "type": "carpet"
           }
          ],
          "choropleth": [
           {
            "colorbar": {
             "outlinewidth": 0,
             "ticks": ""
            },
            "type": "choropleth"
           }
          ],
          "contour": [
           {
            "colorbar": {
             "outlinewidth": 0,
             "ticks": ""
            },
            "colorscale": [
             [
              0,
              "#0d0887"
             ],
             [
              0.1111111111111111,
              "#46039f"
             ],
             [
              0.2222222222222222,
              "#7201a8"
             ],
             [
              0.3333333333333333,
              "#9c179e"
             ],
             [
              0.4444444444444444,
              "#bd3786"
             ],
             [
              0.5555555555555556,
              "#d8576b"
             ],
             [
              0.6666666666666666,
              "#ed7953"
             ],
             [
              0.7777777777777778,
              "#fb9f3a"
             ],
             [
              0.8888888888888888,
              "#fdca26"
             ],
             [
              1,
              "#f0f921"
             ]
            ],
            "type": "contour"
           }
          ],
          "contourcarpet": [
           {
            "colorbar": {
             "outlinewidth": 0,
             "ticks": ""
            },
            "type": "contourcarpet"
           }
          ],
          "heatmap": [
           {
            "colorbar": {
             "outlinewidth": 0,
             "ticks": ""
            },
            "colorscale": [
             [
              0,
              "#0d0887"
             ],
             [
              0.1111111111111111,
              "#46039f"
             ],
             [
              0.2222222222222222,
              "#7201a8"
             ],
             [
              0.3333333333333333,
              "#9c179e"
             ],
             [
              0.4444444444444444,
              "#bd3786"
             ],
             [
              0.5555555555555556,
              "#d8576b"
             ],
             [
              0.6666666666666666,
              "#ed7953"
             ],
             [
              0.7777777777777778,
              "#fb9f3a"
             ],
             [
              0.8888888888888888,
              "#fdca26"
             ],
             [
              1,
              "#f0f921"
             ]
            ],
            "type": "heatmap"
           }
          ],
          "heatmapgl": [
           {
            "colorbar": {
             "outlinewidth": 0,
             "ticks": ""
            },
            "colorscale": [
             [
              0,
              "#0d0887"
             ],
             [
              0.1111111111111111,
              "#46039f"
             ],
             [
              0.2222222222222222,
              "#7201a8"
             ],
             [
              0.3333333333333333,
              "#9c179e"
             ],
             [
              0.4444444444444444,
              "#bd3786"
             ],
             [
              0.5555555555555556,
              "#d8576b"
             ],
             [
              0.6666666666666666,
              "#ed7953"
             ],
             [
              0.7777777777777778,
              "#fb9f3a"
             ],
             [
              0.8888888888888888,
              "#fdca26"
             ],
             [
              1,
              "#f0f921"
             ]
            ],
            "type": "heatmapgl"
           }
          ],
          "histogram": [
           {
            "marker": {
             "colorbar": {
              "outlinewidth": 0,
              "ticks": ""
             }
            },
            "type": "histogram"
           }
          ],
          "histogram2d": [
           {
            "colorbar": {
             "outlinewidth": 0,
             "ticks": ""
            },
            "colorscale": [
             [
              0,
              "#0d0887"
             ],
             [
              0.1111111111111111,
              "#46039f"
             ],
             [
              0.2222222222222222,
              "#7201a8"
             ],
             [
              0.3333333333333333,
              "#9c179e"
             ],
             [
              0.4444444444444444,
              "#bd3786"
             ],
             [
              0.5555555555555556,
              "#d8576b"
             ],
             [
              0.6666666666666666,
              "#ed7953"
             ],
             [
              0.7777777777777778,
              "#fb9f3a"
             ],
             [
              0.8888888888888888,
              "#fdca26"
             ],
             [
              1,
              "#f0f921"
             ]
            ],
            "type": "histogram2d"
           }
          ],
          "histogram2dcontour": [
           {
            "colorbar": {
             "outlinewidth": 0,
             "ticks": ""
            },
            "colorscale": [
             [
              0,
              "#0d0887"
             ],
             [
              0.1111111111111111,
              "#46039f"
             ],
             [
              0.2222222222222222,
              "#7201a8"
             ],
             [
              0.3333333333333333,
              "#9c179e"
             ],
             [
              0.4444444444444444,
              "#bd3786"
             ],
             [
              0.5555555555555556,
              "#d8576b"
             ],
             [
              0.6666666666666666,
              "#ed7953"
             ],
             [
              0.7777777777777778,
              "#fb9f3a"
             ],
             [
              0.8888888888888888,
              "#fdca26"
             ],
             [
              1,
              "#f0f921"
             ]
            ],
            "type": "histogram2dcontour"
           }
          ],
          "mesh3d": [
           {
            "colorbar": {
             "outlinewidth": 0,
             "ticks": ""
            },
            "type": "mesh3d"
           }
          ],
          "parcoords": [
           {
            "line": {
             "colorbar": {
              "outlinewidth": 0,
              "ticks": ""
             }
            },
            "type": "parcoords"
           }
          ],
          "pie": [
           {
            "automargin": true,
            "type": "pie"
           }
          ],
          "scatter": [
           {
            "marker": {
             "colorbar": {
              "outlinewidth": 0,
              "ticks": ""
             }
            },
            "type": "scatter"
           }
          ],
          "scatter3d": [
           {
            "line": {
             "colorbar": {
              "outlinewidth": 0,
              "ticks": ""
             }
            },
            "marker": {
             "colorbar": {
              "outlinewidth": 0,
              "ticks": ""
             }
            },
            "type": "scatter3d"
           }
          ],
          "scattercarpet": [
           {
            "marker": {
             "colorbar": {
              "outlinewidth": 0,
              "ticks": ""
             }
            },
            "type": "scattercarpet"
           }
          ],
          "scattergeo": [
           {
            "marker": {
             "colorbar": {
              "outlinewidth": 0,
              "ticks": ""
             }
            },
            "type": "scattergeo"
           }
          ],
          "scattergl": [
           {
            "marker": {
             "colorbar": {
              "outlinewidth": 0,
              "ticks": ""
             }
            },
            "type": "scattergl"
           }
          ],
          "scattermapbox": [
           {
            "marker": {
             "colorbar": {
              "outlinewidth": 0,
              "ticks": ""
             }
            },
            "type": "scattermapbox"
           }
          ],
          "scatterpolar": [
           {
            "marker": {
             "colorbar": {
              "outlinewidth": 0,
              "ticks": ""
             }
            },
            "type": "scatterpolar"
           }
          ],
          "scatterpolargl": [
           {
            "marker": {
             "colorbar": {
              "outlinewidth": 0,
              "ticks": ""
             }
            },
            "type": "scatterpolargl"
           }
          ],
          "scatterternary": [
           {
            "marker": {
             "colorbar": {
              "outlinewidth": 0,
              "ticks": ""
             }
            },
            "type": "scatterternary"
           }
          ],
          "surface": [
           {
            "colorbar": {
             "outlinewidth": 0,
             "ticks": ""
            },
            "colorscale": [
             [
              0,
              "#0d0887"
             ],
             [
              0.1111111111111111,
              "#46039f"
             ],
             [
              0.2222222222222222,
              "#7201a8"
             ],
             [
              0.3333333333333333,
              "#9c179e"
             ],
             [
              0.4444444444444444,
              "#bd3786"
             ],
             [
              0.5555555555555556,
              "#d8576b"
             ],
             [
              0.6666666666666666,
              "#ed7953"
             ],
             [
              0.7777777777777778,
              "#fb9f3a"
             ],
             [
              0.8888888888888888,
              "#fdca26"
             ],
             [
              1,
              "#f0f921"
             ]
            ],
            "type": "surface"
           }
          ],
          "table": [
           {
            "cells": {
             "fill": {
              "color": "#EBF0F8"
             },
             "line": {
              "color": "white"
             }
            },
            "header": {
             "fill": {
              "color": "#C8D4E3"
             },
             "line": {
              "color": "white"
             }
            },
            "type": "table"
           }
          ]
         },
         "layout": {
          "annotationdefaults": {
           "arrowcolor": "#2a3f5f",
           "arrowhead": 0,
           "arrowwidth": 1
          },
          "coloraxis": {
           "colorbar": {
            "outlinewidth": 0,
            "ticks": ""
           }
          },
          "colorscale": {
           "diverging": [
            [
             0,
             "#8e0152"
            ],
            [
             0.1,
             "#c51b7d"
            ],
            [
             0.2,
             "#de77ae"
            ],
            [
             0.3,
             "#f1b6da"
            ],
            [
             0.4,
             "#fde0ef"
            ],
            [
             0.5,
             "#f7f7f7"
            ],
            [
             0.6,
             "#e6f5d0"
            ],
            [
             0.7,
             "#b8e186"
            ],
            [
             0.8,
             "#7fbc41"
            ],
            [
             0.9,
             "#4d9221"
            ],
            [
             1,
             "#276419"
            ]
           ],
           "sequential": [
            [
             0,
             "#0d0887"
            ],
            [
             0.1111111111111111,
             "#46039f"
            ],
            [
             0.2222222222222222,
             "#7201a8"
            ],
            [
             0.3333333333333333,
             "#9c179e"
            ],
            [
             0.4444444444444444,
             "#bd3786"
            ],
            [
             0.5555555555555556,
             "#d8576b"
            ],
            [
             0.6666666666666666,
             "#ed7953"
            ],
            [
             0.7777777777777778,
             "#fb9f3a"
            ],
            [
             0.8888888888888888,
             "#fdca26"
            ],
            [
             1,
             "#f0f921"
            ]
           ],
           "sequentialminus": [
            [
             0,
             "#0d0887"
            ],
            [
             0.1111111111111111,
             "#46039f"
            ],
            [
             0.2222222222222222,
             "#7201a8"
            ],
            [
             0.3333333333333333,
             "#9c179e"
            ],
            [
             0.4444444444444444,
             "#bd3786"
            ],
            [
             0.5555555555555556,
             "#d8576b"
            ],
            [
             0.6666666666666666,
             "#ed7953"
            ],
            [
             0.7777777777777778,
             "#fb9f3a"
            ],
            [
             0.8888888888888888,
             "#fdca26"
            ],
            [
             1,
             "#f0f921"
            ]
           ]
          },
          "colorway": [
           "#636efa",
           "#EF553B",
           "#00cc96",
           "#ab63fa",
           "#FFA15A",
           "#19d3f3",
           "#FF6692",
           "#B6E880",
           "#FF97FF",
           "#FECB52"
          ],
          "font": {
           "color": "#2a3f5f"
          },
          "geo": {
           "bgcolor": "white",
           "lakecolor": "white",
           "landcolor": "#E5ECF6",
           "showlakes": true,
           "showland": true,
           "subunitcolor": "white"
          },
          "hoverlabel": {
           "align": "left"
          },
          "hovermode": "closest",
          "mapbox": {
           "style": "light"
          },
          "paper_bgcolor": "white",
          "plot_bgcolor": "#E5ECF6",
          "polar": {
           "angularaxis": {
            "gridcolor": "white",
            "linecolor": "white",
            "ticks": ""
           },
           "bgcolor": "#E5ECF6",
           "radialaxis": {
            "gridcolor": "white",
            "linecolor": "white",
            "ticks": ""
           }
          },
          "scene": {
           "xaxis": {
            "backgroundcolor": "#E5ECF6",
            "gridcolor": "white",
            "gridwidth": 2,
            "linecolor": "white",
            "showbackground": true,
            "ticks": "",
            "zerolinecolor": "white"
           },
           "yaxis": {
            "backgroundcolor": "#E5ECF6",
            "gridcolor": "white",
            "gridwidth": 2,
            "linecolor": "white",
            "showbackground": true,
            "ticks": "",
            "zerolinecolor": "white"
           },
           "zaxis": {
            "backgroundcolor": "#E5ECF6",
            "gridcolor": "white",
            "gridwidth": 2,
            "linecolor": "white",
            "showbackground": true,
            "ticks": "",
            "zerolinecolor": "white"
           }
          },
          "shapedefaults": {
           "line": {
            "color": "#2a3f5f"
           }
          },
          "ternary": {
           "aaxis": {
            "gridcolor": "white",
            "linecolor": "white",
            "ticks": ""
           },
           "baxis": {
            "gridcolor": "white",
            "linecolor": "white",
            "ticks": ""
           },
           "bgcolor": "#E5ECF6",
           "caxis": {
            "gridcolor": "white",
            "linecolor": "white",
            "ticks": ""
           }
          },
          "title": {
           "x": 0.05
          },
          "xaxis": {
           "automargin": true,
           "gridcolor": "white",
           "linecolor": "white",
           "ticks": "",
           "title": {
            "standoff": 15
           },
           "zerolinecolor": "white",
           "zerolinewidth": 2
          },
          "yaxis": {
           "automargin": true,
           "gridcolor": "white",
           "linecolor": "white",
           "ticks": "",
           "title": {
            "standoff": 15
           },
           "zerolinecolor": "white",
           "zerolinewidth": 2
          }
         }
        },
        "title": {
         "text": "Cases Today"
        }
       }
      },
      "text/html": [
       "<div>\n",
       "        \n",
       "        \n",
       "            <div id=\"e1d9cb9d-1a99-4a8a-96de-d7c1c6599b14\" class=\"plotly-graph-div\" style=\"height:525px; width:100%;\"></div>\n",
       "            <script type=\"text/javascript\">\n",
       "                require([\"plotly\"], function(Plotly) {\n",
       "                    window.PLOTLYENV=window.PLOTLYENV || {};\n",
       "                    \n",
       "                if (document.getElementById(\"e1d9cb9d-1a99-4a8a-96de-d7c1c6599b14\")) {\n",
       "                    Plotly.newPlot(\n",
       "                        'e1d9cb9d-1a99-4a8a-96de-d7c1c6599b14',\n",
       "                        [{\"coloraxis\": \"coloraxis\", \"geo\": \"geo\", \"hoverlabel\": {\"namelength\": 0}, \"hovertemplate\": \"<b>%{hovertext}</b><br><br>Lat=%{location}<br>3/18/20=%{z}\", \"hovertext\": [\"Thailand\", \"Japan\", \"Singapore\", \"Nepal\", \"Malaysia\", \"Canada\", \"Australia\", \"Australia\", \"Australia\", \"Cambodia\", \"Sri Lanka\", \"Germany\", \"Finland\", \"United Arab Emirates\", \"Philippines\", \"India\", \"Italy\", \"Sweden\", \"Spain\", \"Australia\", \"Belgium\", \"Egypt\", \"Australia\", \"Lebanon\", \"Iraq\", \"Oman\", \"Afghanistan\", \"Bahrain\", \"Kuwait\", \"Algeria\", \"Croatia\", \"Switzerland\", \"Austria\", \"Israel\", \"Pakistan\", \"Brazil\", \"Georgia\", \"Greece\", \"North Macedonia\", \"Norway\", \"Romania\", \"Estonia\", \"San Marino\", \"Belarus\", \"Iceland\", \"Lithuania\", \"Mexico\", \"New Zealand\", \"Nigeria\", \"Australia\", \"Ireland\", \"Luxembourg\", \"Monaco\", \"Qatar\", \"Ecuador\", \"Azerbaijan\", \"Armenia\", \"Dominican Republic\", \"Indonesia\", \"Portugal\", \"Andorra\", \"Australia\", \"Latvia\", \"Morocco\", \"Saudi Arabia\", \"Senegal\", \"Argentina\", \"Chile\", \"Jordan\", \"Ukraine\", \"Hungary\", \"Australia\", \"Liechtenstein\", \"Poland\", \"Tunisia\", \"Bosnia and Herzegovina\", \"Slovenia\", \"South Africa\", \"Bhutan\", \"Cameroon\", \"Colombia\", \"Costa Rica\", \"Peru\", \"Serbia\", \"Slovakia\", \"Togo\", \"Malta\", \"Martinique\", \"Bulgaria\", \"Maldives\", \"Bangladesh\", \"Paraguay\", \"Canada\", \"Canada\", \"Canada\", \"Albania\", \"Cyprus\", \"Brunei\", \"US\", \"US\", \"US\", \"US\", \"US\", \"US\", \"US\", \"US\", \"US\", \"US\", \"US\", \"US\", \"US\", \"US\", \"US\", \"US\", \"US\", \"US\", \"US\", \"US\", \"US\", \"US\", \"US\", \"US\", \"US\", \"US\", \"US\", \"US\", \"US\", \"US\", \"US\", \"US\", \"US\", \"US\", \"US\", \"Burkina Faso\", \"Holy See\", \"Mongolia\", \"Panama\", \"US\", \"US\", \"US\", \"US\", \"US\", \"US\", \"US\", \"US\", \"US\", \"US\", \"US\", \"US\", \"US\", \"US\", \"US\", \"US\", \"US\", \"China\", \"Iran\", \"Korea, South\", \"France\", \"China\", \"China\", \"China\", \"China\", \"China\", \"China\", \"China\", \"Cruise Ship\", \"China\", \"China\", \"China\", \"China\", \"Denmark\", \"China\", \"China\", \"China\", \"China\", \"China\", \"China\", \"China\", \"China\", \"China\", \"China\", \"China\", \"China\", \"China\", \"China\", \"China\", \"Czechia\", \"China\", \"China\", \"China\", \"Taiwan*\", \"Vietnam\", \"Russia\", \"China\", \"China\", \"Moldova\", \"Bolivia\", \"Denmark\", \"France\", \"Honduras\", \"United Kingdom\", \"Canada\", \"China\", \"Congo (Kinshasa)\", \"Cote d'Ivoire\", \"France\", \"Jamaica\", \"Turkey\", \"United Kingdom\", \"US\", \"US\", \"US\", \"US\", \"US\", \"US\", \"US\", \"US\", \"US\", \"US\", \"US\", \"US\", \"US\", \"US\", \"US\", \"US\", \"US\", \"US\", \"US\", \"US\", \"US\", \"US\", \"US\", \"US\", \"US\", \"US\", \"US\", \"US\", \"US\", \"US\", \"US\", \"US\", \"US\", \"US\", \"US\", \"US\", \"US\", \"US\", \"US\", \"US\", \"US\", \"US\", \"US\", \"US\", \"US\", \"US\", \"US\", \"US\", \"US\", \"US\", \"US\", \"US\", \"US\", \"US\", \"US\", \"US\", \"US\", \"US\", \"US\", \"US\", \"US\", \"US\", \"US\", \"US\", \"US\", \"US\", \"US\", \"US\", \"US\", \"US\", \"US\", \"US\", \"US\", \"US\", \"US\", \"US\", \"US\", \"US\", \"US\", \"US\", \"US\", \"US\", \"US\", \"US\", \"US\", \"US\", \"US\", \"US\", \"US\", \"US\", \"US\", \"US\", \"US\", \"US\", \"US\", \"US\", \"US\", \"US\", \"US\", \"US\", \"US\", \"US\", \"US\", \"US\", \"US\", \"US\", \"US\", \"US\", \"US\", \"US\", \"US\", \"US\", \"US\", \"US\", \"US\", \"US\", \"US\", \"US\", \"US\", \"US\", \"US\", \"US\", \"US\", \"US\", \"US\", \"US\", \"US\", \"US\", \"US\", \"US\", \"US\", \"US\", \"US\", \"US\", \"US\", \"US\", \"US\", \"US\", \"US\", \"US\", \"US\", \"US\", \"US\", \"US\", \"US\", \"US\", \"US\", \"US\", \"US\", \"US\", \"US\", \"US\", \"US\", \"US\", \"US\", \"US\", \"US\", \"US\", \"US\", \"US\", \"US\", \"US\", \"US\", \"US\", \"US\", \"US\", \"US\", \"US\", \"US\", \"US\", \"US\", \"US\", \"US\", \"US\", \"US\", \"US\", \"US\", \"US\", \"US\", \"US\", \"US\", \"US\", \"US\", \"US\", \"US\", \"US\", \"US\", \"US\", \"US\", \"US\", \"US\", \"Cuba\", \"Guyana\", \"Australia\", \"United Kingdom\", \"Kazakhstan\", \"France\", \"Canada\", \"Canada\", \"Ethiopia\", \"Sudan\", \"Guinea\", \"Canada\", \"Kenya\", \"Antigua and Barbuda\", \"US\", \"Uruguay\", \"Ghana\", \"US\", \"Namibia\", \"Seychelles\", \"Trinidad and Tobago\", \"Venezuela\", \"Eswatini\", \"Gabon\", \"Guatemala\", \"Mauritania\", \"Rwanda\", \"Saint Lucia\", \"Saint Vincent and the Grenadines\", \"Suriname\", \"France\", \"US\", \"Kosovo\", \"Canada\", \"Canada\", \"Central African Republic\", \"Congo (Brazzaville)\", \"Equatorial Guinea\", \"France\", \"Uzbekistan\", \"Netherlands\", \"Canada\", \"France\", \"Benin\", \"Greenland\", \"Liberia\", \"Netherlands\", \"Somalia\", \"Tanzania\", \"The Bahamas\", \"US\", \"United Kingdom\", \"France\", \"Barbados\", \"Montenegro\", \"Kyrgyzstan\", \"Mauritius\", \"Netherlands\", \"Zambia\", \"Djibouti\", \"Gambia, The\", \"United Kingdom\"], \"locations\": [15.0, 36.0, 1.2833, 28.1667, 2.5, 49.2827, -33.8688, -37.8136, -28.0167, 11.55, 7.0, 51.0, 64.0, 24.0, 13.0, 21.0, 43.0, 63.0, 40.0, -34.9285, 50.8333, 26.0, 35.4437, 33.8547, 33.0, 21.0, 33.0, 26.0275, 29.5, 28.0339, 45.1, 46.8182, 47.5162, 31.0, 30.3753, -14.235, 42.3154, 39.0742, 41.6086, 60.472, 45.9432, 58.5953, 43.9424, 53.7098, 64.9631, 55.1694, 23.6345, -40.9006, 9.082, -31.9505, 53.1424, 49.8153, 43.7333, 25.3548, -1.8312, 40.1431, 40.0691, 18.7357, -0.7893, 39.3999, 42.5063, -41.4545, 56.8796, 31.7917, 24.0, 14.4974, -38.4161, -35.6751, 31.24, 48.3794, 47.1625, -12.4634, 47.14, 51.9194, 34.0, 43.9159, 46.1512, -30.5595, 27.5142, 3.8480000000000003, 4.5709, 9.7489, -9.19, 44.0165, 48.669, 8.6195, 35.9375, 14.6415, 42.7339, 3.2028, 23.685, -23.4425, 51.2538, 53.9333, 52.9399, 41.1533, 35.1264, 4.5353, 47.4009, 42.1657, 36.1162, 42.2302, 35.4437, 37.6489, 33.0406, 39.0598, 27.7663, 40.2989, 44.571999999999996, 31.0545, 40.3495, 40.5908, 42.0115, 39.0639, 35.6301, 33.8569, 35.7478, 37.7693, 33.7298, 39.8494, 37.6681, 38.8974, 38.3135, 43.4525, 45.6945, 41.1254, 40.3888, 41.6809, 44.2685, 41.5978, 21.0943, 35.5653, 40.15, 12.2383, 41.9029, 46.8625, 8.538, 38.5266, 31.1695, 38.4561, 44.0459, 61.3707, 34.9697, 39.3185, 44.2405, 44.6939, 43.3266, 32.7416, 46.9219, 34.8405, 47.5289, 44.2998, 38.4912, 42.756, 30.9756, 32.0, 36.0, 46.2276, 23.3417, 33.882, 29.1832, 27.6104, 31.8257, 27.614, 36.3427, 35.4437, 32.9711, 30.0572, 30.6171, 47.861999999999995, 56.2639, 40.1824, 31.201999999999998, 39.549, 26.0789, 23.8298, 35.1917, 24.974, 19.1959, 26.8154, 39.3054, 37.5777, 37.8099, 22.3, 41.2956, 43.6661, 49.8175, 41.1129, 44.0935, 37.2692, 23.7, 16.0, 60.0, 35.7452, 22.1667, 47.4116, -16.2902, 61.8926, 18.0708, 15.2, 49.3723, 46.5653, 31.6927, -4.0383, 7.54, 17.9, 18.1096, 38.9637, 36.1408, 47.6477, 38.3105, 37.0454, 38.5025, 34.3705, 42.4097, 33.9191, 33.7956, 37.5455, 33.4502, 32.4893, 40.2589, 40.0712, 39.9259, 40.8568, 40.6976, 39.6553, 40.6956, 39.6203, 38.5458, 41.9879, 41.0458, 39.9526, 36.8508, 38.8816, 38.2042, 39.0768, 38.7849, 41.3912, 34.2465, 32.0575, 41.4277, 39.8522, 40.0106, 43.0186, 44.7509, 41.4339, 41.2603, 43.0279, 44.8254, 26.8946, 34.2515, 33.1795, 38.1938, 29.6499, 40.7909, 34.8606, 38.4333, 41.6699, 42.3118, 36.1343, 43.1261, 36.9859, 39.5839, 39.8065, 40.7453, 38.8454, 47.175, 27.4799, 44.8446, 30.5773, 34.0132, 33.9533, 35.1269, 38.6103, 40.9849, 41.8586, 29.028000000000002, 38.9085, 42.9931, 38.9072, 40.229, 37.6017, 26.1901, 26.663, 32.8162, 41.1489, 43.0324, 32.7957, 45.7466, 33.8999, 40.9629, 38.9108, 21.307, 42.3345, 47.7425, 34.3672, 42.6953, 37.2519, 47.0676, 36.1593, 39.2587, 41.8882, 35.7211, 39.9078, 41.3148, 38.0606, 39.8362, 42.4672, 40.6546, 44.9964, 40.5608, 41.6739, 38.7646, 37.3541, 36.0796, 29.5693, 47.1981, 30.769000000000002, 35.9179, 40.7128, 39.1547, 42.3601, 39.7392, 39.5912, 40.9263, 29.7752, 37.7749, 37.8534, 33.7879, 42.1767, 33.2918, 35.8032, 41.122, 43.9088, 27.9904, 39.0916, 37.563, 38.578, 45.775, 33.8034, 45.547, 48.033, 40.745, 38.4747, 32.7157, 36.5761, 34.0522, 47.6062, 41.7377, 48.4242, 46.8646, 48.1976, 48.8787, 38.0834, 38.196, 37.5091, 36.6066, 42.632, 30.7917, 26.07, 27.8764, 29.7938, 30.5927, 28.3232, 32.7767, 32.7732, 30.3883, 40.5726, 39.58, 45.5146, 44.9267, 43.8325, 42.3334, 42.3689, 40.4108, 37.7772, 34.7253, 36.4933, 39.4638, 40.4483, 41.6228, 42.6712, 40.8685, 45.3293, 43.9952, 40.8298, 41.256, 41.7866, 29.9511, 43.8901, 44.4797, 43.0985, 43.7242, 43.6632, 42.9815, 33.8837, 35.0178, 42.5922, 42.2791, 39.5393, 22.0, 5.0, -35.4735, 55.3781, 48.0196, -17.6797, 53.7609, 52.9399, 9.145, 12.8628, 9.9456, 37.6489, -0.0236, 17.0608, 32.3182, -32.5228, 7.9465, 18.2208, -22.9576, -4.6796, 10.6918, 6.4238, -26.5225, -0.8037, 15.7835, 21.0079, -1.9403, 13.9094, 12.9843, 3.9193, 3.9339, 13.4443, 42.6026, 53.1355, 46.5107, 6.6111, -4.0383, 1.5, -12.8275, 41.3775, 52.1326, 44.681999999999995, 16.25, 9.3077, 71.7069, 6.4281, 12.1696, 5.1521, -6.369, 24.25, 18.3358, 19.3133, -21.1351, 13.1939, 42.5, 41.2044, -20.2, 12.5186, -15.4167, 11.8251, 13.4432, 16.7425], \"name\": \"\", \"type\": \"choropleth\", \"z\": [212, 889, 313, 1, 790, 186, 267, 121, 94, 35, 51, 12327, 336, 113, 202, 156, 35713, 1279, 13910, 37, 1486, 196, 0, 133, 164, 39, 22, 256, 142, 74, 81, 3028, 1646, 433, 299, 372, 38, 418, 35, 1550, 260, 258, 119, 51, 250, 27, 93, 20, 8, 35, 292, 203, 7, 452, 111, 28, 84, 21, 227, 448, 39, 10, 71, 49, 171, 31, 79, 238, 52, 14, 58, 1, 28, 251, 29, 38, 275, 116, 1, 10, 93, 50, 145, 83, 105, 1, 38, 19, 92, 13, 14, 11, 221, 97, 94, 59, 49, 68, 1014, 2495, 751, 218, 47, 21, 199, 184, 314, 267, 68, 173, 162, 152, 29, 85, 70, 47, 79, 77, 27, 39, 27, 31, 55, 26, 77, 24, 86, 33, 92, 68, 14, 19, 51, 20, 1, 6, 86, 18, 257, 18, 18, 6, 33, 19, 9, 42, 83, 34, 11, 23, 6, 11, 1, 15, 67800, 17361, 8413, 9043, 1370, 1273, 1232, 1018, 990, 935, 761, 712, 631, 576, 540, 482, 1057, 469, 361, 318, 296, 253, 246, 176, 168, 146, 136, 133, 133, 181, 125, 93, 464, 76, 75, 75, 100, 75, 147, 18, 15, 30, 12, 58, 3, 9, 6, 11, 1, 4, 6, 3, 13, 98, 8, 0, 0, 0, 0, 0, 0, 0, 0, 0, 0, 0, 0, 0, 0, 0, 0, 0, 0, 0, 0, 0, 0, 0, 0, 0, 0, 0, 0, 0, 0, 0, 0, 0, 0, 0, 0, 0, 0, 0, 0, 0, 0, 0, 0, 0, 0, 0, 0, 0, 0, 0, 0, 0, 0, 0, 0, 0, 0, 0, 0, 0, 0, 0, 0, 0, 0, 0, 0, 0, 0, 0, 0, 0, 0, 0, 0, 0, 0, 0, 0, 0, 0, 0, 0, 0, 0, 0, 0, 0, 0, 0, 0, 0, 0, 0, 0, 0, 0, 0, 0, 0, 0, 0, 0, 0, 0, 0, 0, 0, 0, 0, 0, 0, 0, 0, 0, 0, 0, 0, 0, 0, 0, 0, 0, 0, 0, 0, 0, 0, 0, 0, 0, 0, 0, 0, 0, 0, 0, 0, 0, 0, 0, 0, 0, 0, 0, 0, 0, 0, 0, 0, 0, 0, 0, 0, 0, 0, 0, 0, 0, 0, 0, 0, 0, 0, 0, 0, 0, 0, 0, 0, 0, 0, 0, 0, 0, 0, 0, 0, 0, 0, 0, 0, 0, 0, 0, 0, 0, 0, 0, 0, 7, 7, 3, 2626, 35, 3, 15, 8, 6, 2, 1, 9, 3, 1, 46, 50, 7, 5, 2, 4, 7, 36, 1, 1, 6, 1, 8, 2, 1, 1, 11, 5, 2, 3, 1, 1, 1, 4, 3, 15, 2051, 12, 27, 2, 1, 2, 3, 1, 3, 1, 2, 1, 12, 2, 1, 3, 3, 4, 2, 1, 1, 1]}],\n",
       "                        {\"coloraxis\": {\"colorbar\": {\"title\": {\"text\": \"3/18/20\"}}, \"colorscale\": [[0.0, \"rgb(5,48,97)\"], [0.1, \"rgb(33,102,172)\"], [0.2, \"rgb(67,147,195)\"], [0.3, \"rgb(146,197,222)\"], [0.4, \"rgb(209,229,240)\"], [0.5, \"rgb(247,247,247)\"], [0.6, \"rgb(253,219,199)\"], [0.7, \"rgb(244,165,130)\"], [0.8, \"rgb(214,96,77)\"], [0.9, \"rgb(178,24,43)\"], [1.0, \"rgb(103,0,31)\"]]}, \"geo\": {\"center\": {}, \"domain\": {\"x\": [0.0, 1.0], \"y\": [0.0, 1.0]}}, \"legend\": {\"tracegroupgap\": 0}, \"template\": {\"data\": {\"bar\": [{\"error_x\": {\"color\": \"#2a3f5f\"}, \"error_y\": {\"color\": \"#2a3f5f\"}, \"marker\": {\"line\": {\"color\": \"#E5ECF6\", \"width\": 0.5}}, \"type\": \"bar\"}], \"barpolar\": [{\"marker\": {\"line\": {\"color\": \"#E5ECF6\", \"width\": 0.5}}, \"type\": \"barpolar\"}], \"carpet\": [{\"aaxis\": {\"endlinecolor\": \"#2a3f5f\", \"gridcolor\": \"white\", \"linecolor\": \"white\", \"minorgridcolor\": \"white\", \"startlinecolor\": \"#2a3f5f\"}, \"baxis\": {\"endlinecolor\": \"#2a3f5f\", \"gridcolor\": \"white\", \"linecolor\": \"white\", \"minorgridcolor\": \"white\", \"startlinecolor\": \"#2a3f5f\"}, \"type\": \"carpet\"}], \"choropleth\": [{\"colorbar\": {\"outlinewidth\": 0, \"ticks\": \"\"}, \"type\": \"choropleth\"}], \"contour\": [{\"colorbar\": {\"outlinewidth\": 0, \"ticks\": \"\"}, \"colorscale\": [[0.0, \"#0d0887\"], [0.1111111111111111, \"#46039f\"], [0.2222222222222222, \"#7201a8\"], [0.3333333333333333, \"#9c179e\"], [0.4444444444444444, \"#bd3786\"], [0.5555555555555556, \"#d8576b\"], [0.6666666666666666, \"#ed7953\"], [0.7777777777777778, \"#fb9f3a\"], [0.8888888888888888, \"#fdca26\"], [1.0, \"#f0f921\"]], \"type\": \"contour\"}], \"contourcarpet\": [{\"colorbar\": {\"outlinewidth\": 0, \"ticks\": \"\"}, \"type\": \"contourcarpet\"}], \"heatmap\": [{\"colorbar\": {\"outlinewidth\": 0, \"ticks\": \"\"}, \"colorscale\": [[0.0, \"#0d0887\"], [0.1111111111111111, \"#46039f\"], [0.2222222222222222, \"#7201a8\"], [0.3333333333333333, \"#9c179e\"], [0.4444444444444444, \"#bd3786\"], [0.5555555555555556, \"#d8576b\"], [0.6666666666666666, \"#ed7953\"], [0.7777777777777778, \"#fb9f3a\"], [0.8888888888888888, \"#fdca26\"], [1.0, \"#f0f921\"]], \"type\": \"heatmap\"}], \"heatmapgl\": [{\"colorbar\": {\"outlinewidth\": 0, \"ticks\": \"\"}, \"colorscale\": [[0.0, \"#0d0887\"], [0.1111111111111111, \"#46039f\"], [0.2222222222222222, \"#7201a8\"], [0.3333333333333333, \"#9c179e\"], [0.4444444444444444, \"#bd3786\"], [0.5555555555555556, \"#d8576b\"], [0.6666666666666666, \"#ed7953\"], [0.7777777777777778, \"#fb9f3a\"], [0.8888888888888888, \"#fdca26\"], [1.0, \"#f0f921\"]], \"type\": \"heatmapgl\"}], \"histogram\": [{\"marker\": {\"colorbar\": {\"outlinewidth\": 0, \"ticks\": \"\"}}, \"type\": \"histogram\"}], \"histogram2d\": [{\"colorbar\": {\"outlinewidth\": 0, \"ticks\": \"\"}, \"colorscale\": [[0.0, \"#0d0887\"], [0.1111111111111111, \"#46039f\"], [0.2222222222222222, \"#7201a8\"], [0.3333333333333333, \"#9c179e\"], [0.4444444444444444, \"#bd3786\"], [0.5555555555555556, \"#d8576b\"], [0.6666666666666666, \"#ed7953\"], [0.7777777777777778, \"#fb9f3a\"], [0.8888888888888888, \"#fdca26\"], [1.0, \"#f0f921\"]], \"type\": \"histogram2d\"}], \"histogram2dcontour\": [{\"colorbar\": {\"outlinewidth\": 0, \"ticks\": \"\"}, \"colorscale\": [[0.0, \"#0d0887\"], [0.1111111111111111, \"#46039f\"], [0.2222222222222222, \"#7201a8\"], [0.3333333333333333, \"#9c179e\"], [0.4444444444444444, \"#bd3786\"], [0.5555555555555556, \"#d8576b\"], [0.6666666666666666, \"#ed7953\"], [0.7777777777777778, \"#fb9f3a\"], [0.8888888888888888, \"#fdca26\"], [1.0, \"#f0f921\"]], \"type\": \"histogram2dcontour\"}], \"mesh3d\": [{\"colorbar\": {\"outlinewidth\": 0, \"ticks\": \"\"}, \"type\": \"mesh3d\"}], \"parcoords\": [{\"line\": {\"colorbar\": {\"outlinewidth\": 0, \"ticks\": \"\"}}, \"type\": \"parcoords\"}], \"pie\": [{\"automargin\": true, \"type\": \"pie\"}], \"scatter\": [{\"marker\": {\"colorbar\": {\"outlinewidth\": 0, \"ticks\": \"\"}}, \"type\": \"scatter\"}], \"scatter3d\": [{\"line\": {\"colorbar\": {\"outlinewidth\": 0, \"ticks\": \"\"}}, \"marker\": {\"colorbar\": {\"outlinewidth\": 0, \"ticks\": \"\"}}, \"type\": \"scatter3d\"}], \"scattercarpet\": [{\"marker\": {\"colorbar\": {\"outlinewidth\": 0, \"ticks\": \"\"}}, \"type\": \"scattercarpet\"}], \"scattergeo\": [{\"marker\": {\"colorbar\": {\"outlinewidth\": 0, \"ticks\": \"\"}}, \"type\": \"scattergeo\"}], \"scattergl\": [{\"marker\": {\"colorbar\": {\"outlinewidth\": 0, \"ticks\": \"\"}}, \"type\": \"scattergl\"}], \"scattermapbox\": [{\"marker\": {\"colorbar\": {\"outlinewidth\": 0, \"ticks\": \"\"}}, \"type\": \"scattermapbox\"}], \"scatterpolar\": [{\"marker\": {\"colorbar\": {\"outlinewidth\": 0, \"ticks\": \"\"}}, \"type\": \"scatterpolar\"}], \"scatterpolargl\": [{\"marker\": {\"colorbar\": {\"outlinewidth\": 0, \"ticks\": \"\"}}, \"type\": \"scatterpolargl\"}], \"scatterternary\": [{\"marker\": {\"colorbar\": {\"outlinewidth\": 0, \"ticks\": \"\"}}, \"type\": \"scatterternary\"}], \"surface\": [{\"colorbar\": {\"outlinewidth\": 0, \"ticks\": \"\"}, \"colorscale\": [[0.0, \"#0d0887\"], [0.1111111111111111, \"#46039f\"], [0.2222222222222222, \"#7201a8\"], [0.3333333333333333, \"#9c179e\"], [0.4444444444444444, \"#bd3786\"], [0.5555555555555556, \"#d8576b\"], [0.6666666666666666, \"#ed7953\"], [0.7777777777777778, \"#fb9f3a\"], [0.8888888888888888, \"#fdca26\"], [1.0, \"#f0f921\"]], \"type\": \"surface\"}], \"table\": [{\"cells\": {\"fill\": {\"color\": \"#EBF0F8\"}, \"line\": {\"color\": \"white\"}}, \"header\": {\"fill\": {\"color\": \"#C8D4E3\"}, \"line\": {\"color\": \"white\"}}, \"type\": \"table\"}]}, \"layout\": {\"annotationdefaults\": {\"arrowcolor\": \"#2a3f5f\", \"arrowhead\": 0, \"arrowwidth\": 1}, \"coloraxis\": {\"colorbar\": {\"outlinewidth\": 0, \"ticks\": \"\"}}, \"colorscale\": {\"diverging\": [[0, \"#8e0152\"], [0.1, \"#c51b7d\"], [0.2, \"#de77ae\"], [0.3, \"#f1b6da\"], [0.4, \"#fde0ef\"], [0.5, \"#f7f7f7\"], [0.6, \"#e6f5d0\"], [0.7, \"#b8e186\"], [0.8, \"#7fbc41\"], [0.9, \"#4d9221\"], [1, \"#276419\"]], \"sequential\": [[0.0, \"#0d0887\"], [0.1111111111111111, \"#46039f\"], [0.2222222222222222, \"#7201a8\"], [0.3333333333333333, \"#9c179e\"], [0.4444444444444444, \"#bd3786\"], [0.5555555555555556, \"#d8576b\"], [0.6666666666666666, \"#ed7953\"], [0.7777777777777778, \"#fb9f3a\"], [0.8888888888888888, \"#fdca26\"], [1.0, \"#f0f921\"]], \"sequentialminus\": [[0.0, \"#0d0887\"], [0.1111111111111111, \"#46039f\"], [0.2222222222222222, \"#7201a8\"], [0.3333333333333333, \"#9c179e\"], [0.4444444444444444, \"#bd3786\"], [0.5555555555555556, \"#d8576b\"], [0.6666666666666666, \"#ed7953\"], [0.7777777777777778, \"#fb9f3a\"], [0.8888888888888888, \"#fdca26\"], [1.0, \"#f0f921\"]]}, \"colorway\": [\"#636efa\", \"#EF553B\", \"#00cc96\", \"#ab63fa\", \"#FFA15A\", \"#19d3f3\", \"#FF6692\", \"#B6E880\", \"#FF97FF\", \"#FECB52\"], \"font\": {\"color\": \"#2a3f5f\"}, \"geo\": {\"bgcolor\": \"white\", \"lakecolor\": \"white\", \"landcolor\": \"#E5ECF6\", \"showlakes\": true, \"showland\": true, \"subunitcolor\": \"white\"}, \"hoverlabel\": {\"align\": \"left\"}, \"hovermode\": \"closest\", \"mapbox\": {\"style\": \"light\"}, \"paper_bgcolor\": \"white\", \"plot_bgcolor\": \"#E5ECF6\", \"polar\": {\"angularaxis\": {\"gridcolor\": \"white\", \"linecolor\": \"white\", \"ticks\": \"\"}, \"bgcolor\": \"#E5ECF6\", \"radialaxis\": {\"gridcolor\": \"white\", \"linecolor\": \"white\", \"ticks\": \"\"}}, \"scene\": {\"xaxis\": {\"backgroundcolor\": \"#E5ECF6\", \"gridcolor\": \"white\", \"gridwidth\": 2, \"linecolor\": \"white\", \"showbackground\": true, \"ticks\": \"\", \"zerolinecolor\": \"white\"}, \"yaxis\": {\"backgroundcolor\": \"#E5ECF6\", \"gridcolor\": \"white\", \"gridwidth\": 2, \"linecolor\": \"white\", \"showbackground\": true, \"ticks\": \"\", \"zerolinecolor\": \"white\"}, \"zaxis\": {\"backgroundcolor\": \"#E5ECF6\", \"gridcolor\": \"white\", \"gridwidth\": 2, \"linecolor\": \"white\", \"showbackground\": true, \"ticks\": \"\", \"zerolinecolor\": \"white\"}}, \"shapedefaults\": {\"line\": {\"color\": \"#2a3f5f\"}}, \"ternary\": {\"aaxis\": {\"gridcolor\": \"white\", \"linecolor\": \"white\", \"ticks\": \"\"}, \"baxis\": {\"gridcolor\": \"white\", \"linecolor\": \"white\", \"ticks\": \"\"}, \"bgcolor\": \"#E5ECF6\", \"caxis\": {\"gridcolor\": \"white\", \"linecolor\": \"white\", \"ticks\": \"\"}}, \"title\": {\"x\": 0.05}, \"xaxis\": {\"automargin\": true, \"gridcolor\": \"white\", \"linecolor\": \"white\", \"ticks\": \"\", \"title\": {\"standoff\": 15}, \"zerolinecolor\": \"white\", \"zerolinewidth\": 2}, \"yaxis\": {\"automargin\": true, \"gridcolor\": \"white\", \"linecolor\": \"white\", \"ticks\": \"\", \"title\": {\"standoff\": 15}, \"zerolinecolor\": \"white\", \"zerolinewidth\": 2}}}, \"title\": {\"text\": \"Cases Today\"}},\n",
       "                        {\"responsive\": true}\n",
       "                    ).then(function(){\n",
       "                            \n",
       "var gd = document.getElementById('e1d9cb9d-1a99-4a8a-96de-d7c1c6599b14');\n",
       "var x = new MutationObserver(function (mutations, observer) {{\n",
       "        var display = window.getComputedStyle(gd).display;\n",
       "        if (!display || display === 'none') {{\n",
       "            console.log([gd, 'removed!']);\n",
       "            Plotly.purge(gd);\n",
       "            observer.disconnect();\n",
       "        }}\n",
       "}});\n",
       "\n",
       "// Listen for the removal of the full notebook cells\n",
       "var notebookContainer = gd.closest('#notebook-container');\n",
       "if (notebookContainer) {{\n",
       "    x.observe(notebookContainer, {childList: true});\n",
       "}}\n",
       "\n",
       "// Listen for the clearing of the current output cell\n",
       "var outputEl = gd.closest('.output');\n",
       "if (outputEl) {{\n",
       "    x.observe(outputEl, {childList: true});\n",
       "}}\n",
       "\n",
       "                        })\n",
       "                };\n",
       "                });\n",
       "            </script>\n",
       "        </div>"
      ]
     },
     "metadata": {},
     "output_type": "display_data"
    }
   ],
   "source": [
    "px.choropleth(\n",
    "    ncov,\n",
    "    locations=\"Lat\",\n",
    "    color=\"3/18/20\",\n",
    "    color_continuous_scale=px.colors.diverging.RdBu[::-1],\n",
    "    hover_name=\"Country/Region\",\n",
    "    title=\"Cases Today\"\n",
    ")"
   ]
  },
  {
   "cell_type": "code",
   "execution_count": null,
   "metadata": {},
   "outputs": [],
   "source": []
  }
 ],
 "metadata": {
  "kernelspec": {
   "display_name": "Python 3",
   "language": "python",
   "name": "python3"
  },
  "language_info": {
   "codemirror_mode": {
    "name": "ipython",
    "version": 3
   },
   "file_extension": ".py",
   "mimetype": "text/x-python",
   "name": "python",
   "nbconvert_exporter": "python",
   "pygments_lexer": "ipython3",
   "version": "3.7.0"
  }
 },
 "nbformat": 4,
 "nbformat_minor": 4
}
